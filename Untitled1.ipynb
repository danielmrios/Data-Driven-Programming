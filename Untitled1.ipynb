{
 "cells": [
  {
   "cell_type": "code",
   "execution_count": null,
   "id": "3da6c252-5b40-41b9-9be6-ecded66d2d5d",
   "metadata": {},
   "outputs": [],
   "source": [
    "\"\"\"\n",
    "File: pp3_problem3.py\n",
    "Author name: Team 8, Adil Shafqat, Daniel Rios, Tiffany Tu\n",
    "Date: 9/27/2023\n",
    "Version: 1.00\n",
    "\"\"\"\n",
    "userInput = input('Enter the distance in miles from your home to the closest McDonald\\'s:')\n",
    "# McDonald's was in the wrong line\n",
    "miles = int(userInput)\n",
    "# userInput was spelt incorrectly as userinput\n",
    "# miles was not converting userInput to integer\n",
    "conversionFactor = 1.609344\n",
    "kilo = miles * conversionFactor\n",
    "# Incorrect operation, should be multiply not divide\n",
    "print('The distance from home to McDonald\\'s is ', kilo , 'in kilometers')\n",
    "# Function was printing 16.09344 instead of kilo\n"
   ]
  },
  {
   "cell_type": "code",
   "execution_count": null,
   "id": "fa488aae-78a8-4092-b424-b234f000cf7f",
   "metadata": {},
   "outputs": [],
   "source": []
  }
 ],
 "metadata": {
  "kernelspec": {
   "display_name": "anaconda-2022.05-py39",
   "language": "python",
   "name": "conda-env-anaconda-2022.05-py39-py"
  },
  "language_info": {
   "codemirror_mode": {
    "name": "ipython",
    "version": 3
   },
   "file_extension": ".py",
   "mimetype": "text/x-python",
   "name": "python",
   "nbconvert_exporter": "python",
   "pygments_lexer": "ipython3",
   "version": "3.9.12"
  }
 },
 "nbformat": 4,
 "nbformat_minor": 5
}
